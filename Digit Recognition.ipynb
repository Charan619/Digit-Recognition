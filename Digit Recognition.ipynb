{
  "nbformat": 4,
  "nbformat_minor": 0,
  "metadata": {
    "kernelspec": {
      "display_name": "Python 3",
      "language": "python",
      "name": "python3"
    },
    "language_info": {
      "codemirror_mode": {
        "name": "ipython",
        "version": 3
      },
      "file_extension": ".py",
      "mimetype": "text/x-python",
      "name": "python",
      "nbconvert_exporter": "python",
      "pygments_lexer": "ipython3",
      "version": "3.7.4"
    },
    "colab": {
      "name": "Digit Recognition.ipynb",
      "provenance": [],
      "include_colab_link": true
    }
  },
  "cells": [
    {
      "cell_type": "markdown",
      "metadata": {
        "id": "view-in-github",
        "colab_type": "text"
      },
      "source": [
        "<a href=\"https://colab.research.google.com/github/Charan619/Digit-Recognition/blob/master/Digit%20Recognition.ipynb\" target=\"_parent\"><img src=\"https://colab.research.google.com/assets/colab-badge.svg\" alt=\"Open In Colab\"/></a>"
      ]
    },
    {
      "cell_type": "markdown",
      "metadata": {
        "id": "Cn694v_PO8sJ"
      },
      "source": [
        "### Importing TensorFlow"
      ]
    },
    {
      "cell_type": "code",
      "metadata": {
        "id": "R3v8XHqfO8sU"
      },
      "source": [
        "import tensorflow as tf\n",
        "\n",
        "#tf.logging.set_verbosity(tf.logging.ERROR)\n",
        "#print('Using TensorFlow version', tf.__version__)"
      ],
      "execution_count": 1,
      "outputs": []
    },
    {
      "cell_type": "markdown",
      "metadata": {
        "id": "j5ZZzqNnO8sY"
      },
      "source": [
        "### Importing MNIST"
      ]
    },
    {
      "cell_type": "code",
      "metadata": {
        "colab": {
          "base_uri": "https://localhost:8080/"
        },
        "id": "vjxBwjAkO8sa",
        "outputId": "839ed51d-d56b-4e59-8335-e0ce40fcdff9"
      },
      "source": [
        "from tensorflow.keras.datasets import mnist\n",
        "(x_train, y_train), (x_test, y_test) = mnist.load_data()"
      ],
      "execution_count": 2,
      "outputs": [
        {
          "output_type": "stream",
          "text": [
            "Downloading data from https://storage.googleapis.com/tensorflow/tf-keras-datasets/mnist.npz\n",
            "11493376/11490434 [==============================] - 0s 0us/step\n"
          ],
          "name": "stdout"
        }
      ]
    },
    {
      "cell_type": "markdown",
      "metadata": {
        "id": "R55FbtwvO8sb"
      },
      "source": [
        "### Shapes of Imported Arrays"
      ]
    },
    {
      "cell_type": "code",
      "metadata": {
        "colab": {
          "base_uri": "https://localhost:8080/"
        },
        "id": "Ai2QRAf0O8sd",
        "outputId": "826855ad-202c-4aa5-b6c6-bc93dd99542a"
      },
      "source": [
        "print( 'x_train shape:', x_train.shape)\n",
        "print('y_train shape:', y_train.shape)\n",
        "print('x_test shape:', x_test.shape)\n",
        "print('y_test shape:', y_test.shape)\n"
      ],
      "execution_count": 3,
      "outputs": [
        {
          "output_type": "stream",
          "text": [
            "x_train shape: (60000, 28, 28)\n",
            "y_train shape: (60000,)\n",
            "x_test shape: (10000, 28, 28)\n",
            "y_test shape: (10000,)\n"
          ],
          "name": "stdout"
        }
      ]
    },
    {
      "cell_type": "markdown",
      "metadata": {
        "id": "9gebGhnhO8sg"
      },
      "source": [
        "### Plotting an Image Example"
      ]
    },
    {
      "cell_type": "code",
      "metadata": {
        "colab": {
          "base_uri": "https://localhost:8080/",
          "height": 265
        },
        "id": "w294bQL8O8sh",
        "outputId": "64078ab7-c870-4095-ebac-9ec8f01333a7"
      },
      "source": [
        "from matplotlib import pyplot as plt\n",
        "%matplotlib inline\n",
        "\n",
        "plt.imshow(x_train[0], cmap='binary')\n",
        "plt.show()"
      ],
      "execution_count": 4,
      "outputs": [
        {
          "output_type": "display_data",
          "data": {
            "image/png": "[encoded data removed]",
            "text/plain": [
              "<Figure size 432x288 with 1 Axes>"
            ]
          },
          "metadata": {
            "tags": [],
            "needs_background": "light"
          }
        }
      ]
    },
    {
      "cell_type": "markdown",
      "metadata": {
        "id": "x4MRWFV-O8si"
      },
      "source": [
        "### Displaying Labels"
      ]
    },
    {
      "cell_type": "code",
      "metadata": {
        "colab": {
          "base_uri": "https://localhost:8080/"
        },
        "id": "cuvqATR5O8sk",
        "outputId": "4c20f525-7aba-45d3-cc2a-bbf04c58fc74"
      },
      "source": [
        "y_train[0]"
      ],
      "execution_count": 5,
      "outputs": [
        {
          "output_type": "execute_result",
          "data": {
            "text/plain": [
              "5"
            ]
          },
          "metadata": {
            "tags": []
          },
          "execution_count": 5
        }
      ]
    },
    {
      "cell_type": "code",
      "metadata": {
        "colab": {
          "base_uri": "https://localhost:8080/"
        },
        "id": "7QC2scCZO8sl",
        "outputId": "60d5629e-2b75-44ce-8a68-e22ac2d72a9b"
      },
      "source": [
        "print(set(y_train))"
      ],
      "execution_count": 6,
      "outputs": [
        {
          "output_type": "stream",
          "text": [
            "{0, 1, 2, 3, 4, 5, 6, 7, 8, 9}\n"
          ],
          "name": "stdout"
        }
      ]
    },
    {
      "cell_type": "markdown",
      "metadata": {
        "id": "aYUdUOSVO8so"
      },
      "source": [
        "After this encoding, every label will be converted to a list with 10 elements and the element at index to the corresponding class will be set to 1, rest will be set to 0:\n",
        "\n",
        "| original label | one-hot encoded label |\n",
        "|------|------|\n",
        "| 5 | [0, 0, 0, 0, 0, 1, 0, 0, 0, 0] |\n",
        "| 7 | [0, 0, 0, 0, 0, 0, 0, 1, 0, 0] |\n",
        "| 1 | [0, 1, 0, 0, 0, 0, 0, 0, 0, 0] |\n",
        "\n",
        "### Encoding Labels"
      ]
    },
    {
      "cell_type": "code",
      "metadata": {
        "id": "J8KpoWe7O8so"
      },
      "source": [
        "from tensorflow.keras.utils import to_categorical\n",
        "\n",
        "y_train_encoded = to_categorical(y_train)\n",
        "y_test_encoded = to_categorical(y_test)"
      ],
      "execution_count": 7,
      "outputs": []
    },
    {
      "cell_type": "markdown",
      "metadata": {
        "id": "QW8bu5CUO8sp"
      },
      "source": [
        "### Display Encoded Labels"
      ]
    },
    {
      "cell_type": "code",
      "metadata": {
        "colab": {
          "base_uri": "https://localhost:8080/"
        },
        "id": "wZ7ypWGUO8sp",
        "outputId": "cb382d4a-6e6d-4d68-dcc5-e66e1997658c"
      },
      "source": [
        "y_train_encoded[0]"
      ],
      "execution_count": 8,
      "outputs": [
        {
          "output_type": "execute_result",
          "data": {
            "text/plain": [
              "array([0., 0., 0., 0., 0., 1., 0., 0., 0., 0.], dtype=float32)"
            ]
          },
          "metadata": {
            "tags": []
          },
          "execution_count": 8
        }
      ]
    },
    {
      "cell_type": "markdown",
      "metadata": {
        "id": "60fYxEsMO8sr"
      },
      "source": [
        "### Unrolling N-dimensional Arrays to Vectors"
      ]
    },
    {
      "cell_type": "code",
      "metadata": {
        "id": "rCOkz-RWO8sr"
      },
      "source": [
        "import numpy as np\n",
        "\n",
        "x_train_reshaped = np.reshape(x_train, (60000,784))\n",
        "x_test_reshaped = np.reshape(x_test, (10000,784))"
      ],
      "execution_count": 9,
      "outputs": []
    },
    {
      "cell_type": "markdown",
      "metadata": {
        "id": "59WK9LVaO8ss"
      },
      "source": [
        "### Data Normalization"
      ]
    },
    {
      "cell_type": "code",
      "metadata": {
        "id": "qL4LDOPnO8ss"
      },
      "source": [
        "#making pixel data around 0 value\n",
        "x_mean = np.mean(x_train_reshaped)\n",
        "x_std = np.std(x_train_reshaped)\n",
        "\n",
        "epsilon = 1e-10\n",
        "\n",
        "x_train_norm = (x_train_reshaped - x_mean) / (x_std + epsilon)\n",
        "x_test_norm = (x_test_reshaped - x_mean) / (x_std + epsilon)\n"
      ],
      "execution_count": 10,
      "outputs": []
    },
    {
      "cell_type": "markdown",
      "metadata": {
        "id": "Oe-VTdPJO8st"
      },
      "source": [
        "### Reshaping Pixel Values to 28x28x1 matrix"
      ]
    },
    {
      "cell_type": "code",
      "metadata": {
        "id": "_J3sVZ8TO8st"
      },
      "source": [
        "x_train_norm = x_train_norm.reshape(-1,28,28,1)\n",
        "x_test_norm = x_test_norm.reshape(-1,28,28,1)"
      ],
      "execution_count": 11,
      "outputs": []
    },
    {
      "cell_type": "markdown",
      "metadata": {
        "id": "Wk892CdWO8su"
      },
      "source": [
        "### Creating the Model"
      ]
    },
    {
      "cell_type": "code",
      "metadata": {
        "id": "RndqmlQNO8sv"
      },
      "source": [
        "from tensorflow.keras.models import Sequential\n",
        "from tensorflow.keras.layers import Dense,MaxPooling2D,BatchNormalization, Dropout, Flatten, Conv2D, MaxPool2D\n",
        "\n",
        "model = Sequential()\n",
        " \n",
        "# Using bigger kernels as information is distributed globally in the image and not locally\n",
        "\n",
        "model.add(Conv2D(20, (7, 7), activation='relu', padding='same', input_shape=(28,28,1)))\n",
        "model.add(BatchNormalization())\n",
        "model.add(MaxPooling2D(pool_size=(2,2), strides=(2, 2)))\n",
        "\n",
        "model.add(Conv2D(10, (5, 5), activation='relu', padding='valid'))\n",
        "model.add(BatchNormalization())\n",
        "model.add(MaxPooling2D(pool_size=(2,2), strides=(2, 2)))\n",
        "\n",
        "model.add(Dropout(0.5))\n",
        "\n",
        "model.add(Flatten())\n",
        "model.add(Dense(10, activation='softmax'))\n",
        "#model = Sequential([\n",
        "#    Dense(128,activation='relu',input_shape=(784,)),\n",
        " #   Dense(128,activation='relu'),\n",
        "  #  Dense(10,activation='softmax')\n",
        "#])\n"
      ],
      "execution_count": 14,
      "outputs": []
    },
    {
      "cell_type": "markdown",
      "metadata": {
        "id": "UTYfLQWdO8sw"
      },
      "source": [
        "### Compiling the Model"
      ]
    },
    {
      "cell_type": "code",
      "metadata": {
        "colab": {
          "base_uri": "https://localhost:8080/"
        },
        "id": "_sD3pKn_O8sw",
        "outputId": "d369fb2b-826e-43b5-a19a-e1e3320e2fe0"
      },
      "source": [
        "from keras.optimizers import SGD,Adam\n",
        "sgd = SGD(lr=1e-3, decay=5e-4, momentum=0.9, nesterov=True)\n",
        "\n",
        "adam = Adam(lr=1e-3)\n",
        "\n",
        "# 8. Compile model\n",
        "model.compile(loss='categorical_crossentropy',\n",
        "              optimizer=adam,\n",
        "              metrics=['accuracy'])\n",
        "\n",
        "model.summary()"
      ],
      "execution_count": 16,
      "outputs": [
        {
          "output_type": "stream",
          "text": [
            "Model: \"sequential_2\"\n",
            "_________________________________________________________________\n",
            "Layer (type)                 Output Shape              Param #   \n",
            "=================================================================\n",
            "conv2d_2 (Conv2D)            (None, 28, 28, 20)        1000      \n",
            "_________________________________________________________________\n",
            "batch_normalization_1 (Batch (None, 28, 28, 20)        80        \n",
            "_________________________________________________________________\n",
            "max_pooling2d (MaxPooling2D) (None, 14, 14, 20)        0         \n",
            "_________________________________________________________________\n",
            "conv2d_3 (Conv2D)            (None, 10, 10, 10)        5010      \n",
            "_________________________________________________________________\n",
            "batch_normalization_2 (Batch (None, 10, 10, 10)        40        \n",
            "_________________________________________________________________\n",
            "max_pooling2d_1 (MaxPooling2 (None, 5, 5, 10)          0         \n",
            "_________________________________________________________________\n",
            "dropout (Dropout)            (None, 5, 5, 10)          0         \n",
            "_________________________________________________________________\n",
            "flatten (Flatten)            (None, 250)               0         \n",
            "_________________________________________________________________\n",
            "dense (Dense)                (None, 10)                2510      \n",
            "=================================================================\n",
            "Total params: 8,640\n",
            "Trainable params: 8,580\n",
            "Non-trainable params: 60\n",
            "_________________________________________________________________\n"
          ],
          "name": "stdout"
        }
      ]
    },
    {
      "cell_type": "markdown",
      "metadata": {
        "id": "hJRQWKFCO8sy"
      },
      "source": [
        "### Training the Model"
      ]
    },
    {
      "cell_type": "code",
      "metadata": {
        "colab": {
          "base_uri": "https://localhost:8080/"
        },
        "id": "9Ax8e-QpO8sy",
        "outputId": "e5e960c3-198e-4bce-f15e-49f2294440c2"
      },
      "source": [
        "model.fit(x_train_norm,y_train_encoded,epochs=20)"
      ],
      "execution_count": 17,
      "outputs": [
        {
          "output_type": "stream",
          "text": [
            "Epoch 1/20\n",
            "1875/1875 [==============================] - 89s 47ms/step - loss: 0.6855 - accuracy: 0.8033\n",
            "Epoch 2/20\n",
            "1875/1875 [==============================] - 88s 47ms/step - loss: 0.1110 - accuracy: 0.9662\n",
            "Epoch 3/20\n",
            "1875/1875 [==============================] - 94s 50ms/step - loss: 0.0841 - accuracy: 0.9738\n",
            "Epoch 4/20\n",
            "1875/1875 [==============================] - 89s 48ms/step - loss: 0.0766 - accuracy: 0.9755\n",
            "Epoch 5/20\n",
            "1875/1875 [==============================] - 89s 47ms/step - loss: 0.0687 - accuracy: 0.9789\n",
            "Epoch 6/20\n",
            "1875/1875 [==============================] - 90s 48ms/step - loss: 0.0597 - accuracy: 0.9806\n",
            "Epoch 7/20\n",
            "1875/1875 [==============================] - 92s 49ms/step - loss: 0.0589 - accuracy: 0.9820\n",
            "Epoch 8/20\n",
            "1875/1875 [==============================] - 90s 48ms/step - loss: 0.0588 - accuracy: 0.9816\n",
            "Epoch 9/20\n",
            "1875/1875 [==============================] - 90s 48ms/step - loss: 0.0539 - accuracy: 0.9829\n",
            "Epoch 10/20\n",
            "1875/1875 [==============================] - 91s 48ms/step - loss: 0.0507 - accuracy: 0.9847\n",
            "Epoch 11/20\n",
            "1875/1875 [==============================] - 91s 48ms/step - loss: 0.0519 - accuracy: 0.9838\n",
            "Epoch 12/20\n",
            "1875/1875 [==============================] - 88s 47ms/step - loss: 0.0465 - accuracy: 0.9858\n",
            "Epoch 13/20\n",
            "1875/1875 [==============================] - 86s 46ms/step - loss: 0.0463 - accuracy: 0.9853\n",
            "Epoch 14/20\n",
            "1875/1875 [==============================] - 88s 47ms/step - loss: 0.0427 - accuracy: 0.9861\n",
            "Epoch 15/20\n",
            "1875/1875 [==============================] - 88s 47ms/step - loss: 0.0444 - accuracy: 0.9852\n",
            "Epoch 16/20\n",
            "1875/1875 [==============================] - 88s 47ms/step - loss: 0.0444 - accuracy: 0.9865\n",
            "Epoch 17/20\n",
            "1875/1875 [==============================] - 87s 46ms/step - loss: 0.0462 - accuracy: 0.9857\n",
            "Epoch 18/20\n",
            "1875/1875 [==============================] - 85s 46ms/step - loss: 0.0411 - accuracy: 0.9870\n",
            "Epoch 19/20\n",
            "1875/1875 [==============================] - 84s 45ms/step - loss: 0.0413 - accuracy: 0.9863\n",
            "Epoch 20/20\n",
            "1875/1875 [==============================] - 82s 44ms/step - loss: 0.0419 - accuracy: 0.9864\n"
          ],
          "name": "stdout"
        },
        {
          "output_type": "execute_result",
          "data": {
            "text/plain": [
              "<tensorflow.python.keras.callbacks.History at 0x7faa10df8b38>"
            ]
          },
          "metadata": {
            "tags": []
          },
          "execution_count": 0
        }
      ]
    },
    {
      "cell_type": "markdown",
      "metadata": {
        "id": "qedc5TvKO8sy"
      },
      "source": [
        "### Evaluating the Model"
      ]
    },
    {
      "cell_type": "code",
      "metadata": {
        "colab": {
          "base_uri": "https://localhost:8080/"
        },
        "id": "oaQmdn6aO8sz",
        "outputId": "ba677c98-ee5a-4eb1-9dbf-4c3b81f3f7bc"
      },
      "source": [
        "_,accuracy= model.evaluate(x_test_norm,y_test_encoded,verbose=2)\n",
        "print('Accuracy: ',accuracy * 100)"
      ],
      "execution_count": 18,
      "outputs": [
        {
          "output_type": "stream",
          "text": [
            "313/313 - 4s - loss: 0.0197 - accuracy: 0.9938\n",
            "Accuracy:  99.37999844551086\n"
          ],
          "name": "stdout"
        }
      ]
    },
    {
      "cell_type": "markdown",
      "metadata": {
        "id": "DucHaDuSO8s0"
      },
      "source": [
        "### Predictions on Test Set"
      ]
    },
    {
      "cell_type": "code",
      "metadata": {
        "colab": {
          "base_uri": "https://localhost:8080/",
          "height": 716
        },
        "id": "hjOQk2UzO8s0",
        "outputId": "d83f8320-8dce-4056-b577-62690c99b341"
      },
      "source": [
        "preds=model.predict(x_test_norm)\n",
        "print('shape of preds: ',preds.shape)\n",
        "\n",
        "plt.figure(figsize=(12,12))\n",
        "\n",
        "start_index=0\n",
        "\n",
        "for i in range (25):\n",
        "    plt.subplot(5,5,i+1)\n",
        "    plt.grid(False)\n",
        "    plt.xticks([])\n",
        "    plt.yticks([])\n",
        "\n",
        "    pred=np.argmax(preds[start_index+i])\n",
        "    gt=y_test[start_index+i]\n",
        "    \n",
        "    col='g'\n",
        "    if pred != gt:\n",
        "        col='r'\n",
        "    \n",
        "    plt.xlabel('i={},pred={},gt={}' .format(start_index+i,pred,gt),color=col)\n",
        "    plt.imshow(x_test[start_index+i],cmap='binary')\n",
        "        \n",
        "plt.show()"
      ],
      "execution_count": 19,
      "outputs": [
        {
          "output_type": "stream",
          "text": [
            "shape of preds:  (10000, 10)\n"
          ],
          "name": "stdout"
        },
        {
          "output_type": "display_data",
          "data": {
            "image/png": "[encoded data removed]",
            "text/plain": [
              "<Figure size 864x864 with 25 Axes>"
            ]
          },
          "metadata": {
            "tags": []
          }
        }
      ]
    }
  ]
}